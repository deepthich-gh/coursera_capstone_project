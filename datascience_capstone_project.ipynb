{
    "cells": [
        {
            "cell_type": "markdown",
            "metadata": {
                "collapsed": true
            },
            "source": "# Applied Data Science Capstone Project"
        },
        {
            "cell_type": "markdown",
            "metadata": {},
            "source": "## Best place to open an Indian Restaurant in the city of Toronto,Canada"
        },
        {
            "cell_type": "markdown",
            "metadata": {},
            "source": "### Business Problem: To identify the best location to open an Indian Restaurant in the city of Toronto"
        },
        {
            "cell_type": "markdown",
            "metadata": {},
            "source": "INTRODUCTION: \n\nIndian immigrants have been part of life in Canada for over a century. As of 2020, there are more than one million Indian citizens in Canada.\n\nToronto is a major magnet for Indian immigrants. The city is Canada\u2019s economic engine and is also home to some of the continent\u2019s top schools and universities. Opening an Indian restaurant in this city should be an exciting idea for business startup.\n\nIn this Project, We will identify the best location to setup an Indian restaurant by analyzing the neighborhoods of Toronto and finding out the borough that has the least number of Indian restaurants. As lesser number implies little competition for the startup."
        },
        {
            "cell_type": "raw",
            "metadata": {},
            "source": ""
        }
    ],
    "metadata": {
        "kernelspec": {
            "display_name": "Python 3.7",
            "language": "python",
            "name": "python3"
        },
        "language_info": {
            "codemirror_mode": {
                "name": "ipython",
                "version": 3
            },
            "file_extension": ".py",
            "mimetype": "text/x-python",
            "name": "python",
            "nbconvert_exporter": "python",
            "pygments_lexer": "ipython3",
            "version": "3.7.10"
        }
    },
    "nbformat": 4,
    "nbformat_minor": 1
}